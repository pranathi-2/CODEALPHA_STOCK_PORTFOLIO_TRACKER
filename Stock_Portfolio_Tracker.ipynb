{
  "nbformat": 4,
  "nbformat_minor": 0,
  "metadata": {
    "colab": {
      "provenance": [],
      "authorship_tag": "ABX9TyNMI1Y1ASM3oFmUv6kvdby2",
      "include_colab_link": true
    },
    "kernelspec": {
      "name": "python3",
      "display_name": "Python 3"
    },
    "language_info": {
      "name": "python"
    }
  },
  "cells": [
    {
      "cell_type": "markdown",
      "metadata": {
        "id": "view-in-github",
        "colab_type": "text"
      },
      "source": [
        "<a href=\"https://colab.research.google.com/github/pranathi-2/CODEALPHA_STOCK_PORTFOLIO_TRACKER/blob/main/Stock_Portfolio_Tracker.ipynb\" target=\"_parent\"><img src=\"https://colab.research.google.com/assets/colab-badge.svg\" alt=\"Open In Colab\"/></a>"
      ]
    },
    {
      "cell_type": "code",
      "execution_count": 20,
      "metadata": {
        "colab": {
          "base_uri": "https://localhost:8080/"
        },
        "id": "pUX8YAPsxoQG",
        "outputId": "1291d8e8-c1bd-45ca-dfad-36dffd1c2907"
      },
      "outputs": [
        {
          "output_type": "stream",
          "name": "stdout",
          "text": [
            "Added 10 shares of AAPL at $150 each.\n",
            "Added 5 shares of GOOGL at $2500 each.\n",
            "AAPL: 10 shares, Purchase Price: $150,Current Price: $251.0399932861328, Current Value: $2510.399932861328\n",
            "GOOGL: 5 shares, Purchase Price: $2500,Current Price: $196.66000366210938, Current Value: $983.3000183105469\n",
            "\n",
            "Portfolio Performance:\n",
            "Total Investment: $14000.00\n",
            "Total Current Value: $3493.70\n",
            "Total Return: $-10506.30\n",
            "Portfolio Return Percentage: -75.05%\n",
            "\n",
            "Portfolio Summary:\n",
            "AAPL: 10 shares at $150 each\n",
            "GOOGL: 5 shares at $2500 each\n",
            "Removed AAPL from the portfolio.\n",
            "GOOGL: 5 shares, Purchase Price: $2500,Current Price: $196.66000366210938, Current Value: $983.3000183105469\n",
            "\n",
            "Portfolio Performance:\n",
            "Total Investment: $12500.00\n",
            "Total Current Value: $983.30\n",
            "Total Return: $-11516.70\n",
            "Portfolio Return Percentage: -92.13%\n",
            "\n",
            "Portfolio Summary:\n",
            "GOOGL: 5 shares at $2500 each\n"
          ]
        },
        {
          "output_type": "stream",
          "name": "stderr",
          "text": [
            "<ipython-input-20-6078175cf4d5>:21: FutureWarning: Series.__getitem__ treating keys as positions is deprecated. In a future version, integer keys will always be treated as labels (consistent with DataFrame behavior). To access a value by position, use `ser.iloc[pos]`\n",
            "  return data['Close'][0]\n",
            "<ipython-input-20-6078175cf4d5>:21: FutureWarning: Series.__getitem__ treating keys as positions is deprecated. In a future version, integer keys will always be treated as labels (consistent with DataFrame behavior). To access a value by position, use `ser.iloc[pos]`\n",
            "  return data['Close'][0]\n",
            "<ipython-input-20-6078175cf4d5>:21: FutureWarning: Series.__getitem__ treating keys as positions is deprecated. In a future version, integer keys will always be treated as labels (consistent with DataFrame behavior). To access a value by position, use `ser.iloc[pos]`\n",
            "  return data['Close'][0]\n"
          ]
        }
      ],
      "source": [
        "import yfinance as yf\n",
        "import pandas as pd\n",
        "class StockPortfolio:\n",
        "    def __init__(self):\n",
        "        self.portfolio = {}\n",
        "    def add_stock(self, symbol, shares, purchase_price):\n",
        "        if symbol in self.portfolio:\n",
        "            print(f\"{symbol} is already in the portfolio.\")\n",
        "        else:\n",
        "            self.portfolio[symbol] = {'shares': shares, 'purchase_price': purchase_price}\n",
        "            print(f\"Added {shares} shares of {symbol} at ${purchase_price} each.\")\n",
        "    def remove_stock(self, symbol):\n",
        "        if symbol in self.portfolio:\n",
        "            del self.portfolio[symbol]\n",
        "            print(f\"Removed {symbol} from the portfolio.\")\n",
        "        else:\n",
        "            print(f\"{symbol} is not in the portfolio.\")\n",
        "    def get_current_price(self, symbol):\n",
        "        stock = yf.Ticker(symbol)\n",
        "        data = stock.history(period=\"1d\")\n",
        "        return data['Close'][0]\n",
        "    def track_performance(self):\n",
        "        total_value = 0\n",
        "        total_investment = 0\n",
        "        for symbol, details in self.portfolio.items():\n",
        "            current_price = self.get_current_price(symbol)\n",
        "            total_value += current_price * details['shares']\n",
        "            total_investment += details['shares'] * details['purchase_price']\n",
        "            print(f\"{symbol}: {details['shares']} shares, Purchase Price: ${details['purchase_price']},\"f\"Current Price: ${current_price}, Current Value: ${current_price * details['shares']}\")\n",
        "        portfolio_return = total_value - total_investment\n",
        "        print(\"\\nPortfolio Performance:\")\n",
        "        print(f\"Total Investment: ${total_investment:.2f}\")\n",
        "        print(f\"Total Current Value: ${total_value:.2f}\")\n",
        "        print(f\"Total Return: ${portfolio_return:.2f}\")\n",
        "        print(f\"Portfolio Return Percentage: {100 * (portfolio_return / total_investment) if total_investment != 0 else 0:.2f}%\")\n",
        "    def portfolio_summary(self):\n",
        "        if not self.portfolio:\n",
        "            print(\"Your portfolio is empty.\")\n",
        "        else:\n",
        "            print(\"\\nPortfolio Summary:\")\n",
        "            for symbol, details in self.portfolio.items():\n",
        "                print(f\"{symbol}: {details['shares']} shares at ${details['purchase_price']} each\")\n",
        "portfolio = StockPortfolio()\n",
        "portfolio.add_stock('AAPL', 10, 150)\n",
        "portfolio.add_stock('GOOGL', 5, 2500)\n",
        "portfolio.track_performance()\n",
        "portfolio.portfolio_summary()\n",
        "portfolio.remove_stock('AAPL')\n",
        "portfolio.track_performance()\n",
        "portfolio.portfolio_summary()\n"
      ]
    }
  ]
}